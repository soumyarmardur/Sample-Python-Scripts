{
 "cells": [
  {
   "cell_type": "code",
   "execution_count": 1,
   "metadata": {},
   "outputs": [],
   "source": [
    "import pandas as pd"
   ]
  },
  {
   "cell_type": "code",
   "execution_count": 20,
   "metadata": {},
   "outputs": [],
   "source": [
    "class Corona():\n",
    "    def __init__(self,P,Q):\n",
    "        self.P=P\n",
    "        self.Q=Q\n",
    "        \n",
    "    def CoronaData():\n",
    "        Country=[\"India\",\"US\",\"India\",\"China\",\"US\"]\n",
    "        Country=pd.DataFrame(Country)\n",
    "        Country.rename(columns={0:\"Country\"},inplace=True)\n",
    "\n",
    "        TotalCases=[61356,1327229,40000,82000,1027800]\n",
    "        Totalcases=pd.DataFrame(TotalCases)\n",
    "        Totalcases.rename(columns={0:\"Totalcases\"},inplace=True)\n",
    "\n",
    "        NewCases=[3000,5444,2800,5000,2500]\n",
    "        Newcases=pd.DataFrame(NewCases)\n",
    "        Newcases.rename(columns={0:\"Newcases\"},inplace=True)\n",
    "\n",
    "\n",
    "        TotalDeaths=[1600,2000,1700,6000,1479]\n",
    "        Totaldeaths=pd.DataFrame(TotalDeaths)\n",
    "        Totaldeaths.rename(columns={0:\"Totaldeaths\"},inplace=True)\n",
    "\n",
    "\n",
    "        TotalRecovered=[140,380,378,899,590]\n",
    "        Totalrecovered=pd.DataFrame(TotalRecovered)\n",
    "        Totalrecovered.rename(columns={0:\"Totalrecovered\"},inplace=True)\n",
    "\n",
    "\n",
    "        Data=pd.concat([Country,Totalcases,Newcases,Totaldeaths,Totalrecovered],axis=1)\n",
    "        P=Data.drop([\"Totaldeaths\",\"Totalrecovered\"],axis=1)\n",
    "        Q=Data[[\"Totaldeaths\",\"Totalrecovered\"]]\n",
    "        \n",
    "        return P,Q\n",
    "    \n",
    "    def CoronaTotalCasesRate(self,P,Q,Corona_report=[]):\n",
    "        for i in P.Totalcases:\n",
    "            if i<50000:\n",
    "                Corona_report.append(\"Low\")\n",
    "            elif i<100000:\n",
    "                Corona_report.append(\"Medium\")\n",
    "            else:\n",
    "                Corona_report.append(\"High\")\n",
    "                \n",
    "        Corona_reportDataF=pd.DataFrame(Corona_report)\n",
    "        Corona_reportDataF.rename(columns={0:\"Corona_report\"},inplace=True)  \n",
    "        \n",
    "        return Corona_reportDataF\n",
    "    \n",
    "    def CoronaFeatures(self,P,Q,Features_list=[]):\n",
    "        for i in P:\n",
    "            Features_list.append(i)\n",
    "        for i in Q:\n",
    "            Features_list.append(i)\n",
    "            \n",
    "        return Features_list    \n",
    "    \n",
    "    def CoronaUniqueFeatures(self,P,Q,Unique_values=[]):\n",
    "        for i in P:\n",
    "            Unique_values.append(set(P[i]))\n",
    "        \n",
    "        for j in Q:\n",
    "            Unique_values.append(set(Q[j]))\n",
    "        \n",
    "        return Unique_values\n",
    "        \n"
   ]
  },
  {
   "cell_type": "code",
   "execution_count": null,
   "metadata": {},
   "outputs": [],
   "source": [
    "P,Q=Corona.CoronaData()"
   ]
  },
  {
   "cell_type": "code",
   "execution_count": 21,
   "metadata": {},
   "outputs": [
    {
     "data": {
      "text/plain": [
       "[{'China', 'India', 'US'},\n",
       " {40000, 61356, 82000, 1027800, 1327229},\n",
       " {2500, 2800, 3000, 5000, 5444},\n",
       " {1479, 1600, 1700, 2000, 6000},\n",
       " {140, 378, 380, 590, 899}]"
      ]
     },
     "execution_count": 21,
     "metadata": {},
     "output_type": "execute_result"
    }
   ],
   "source": [
    "CoronaObj=Corona(P,Q)\n",
    "CoronaObj.CoronaTotalCasesRate(P,Q)\n",
    "CoronaObj.CoronaFeatures(P,Q)\n",
    "CoronaObj.CoronaUniqueFeatures(P,Q)"
   ]
  },
  {
   "cell_type": "code",
   "execution_count": 15,
   "metadata": {},
   "outputs": [
    {
     "data": {
      "text/html": [
       "<div>\n",
       "<style scoped>\n",
       "    .dataframe tbody tr th:only-of-type {\n",
       "        vertical-align: middle;\n",
       "    }\n",
       "\n",
       "    .dataframe tbody tr th {\n",
       "        vertical-align: top;\n",
       "    }\n",
       "\n",
       "    .dataframe thead th {\n",
       "        text-align: right;\n",
       "    }\n",
       "</style>\n",
       "<table border=\"1\" class=\"dataframe\">\n",
       "  <thead>\n",
       "    <tr style=\"text-align: right;\">\n",
       "      <th></th>\n",
       "      <th>Country</th>\n",
       "      <th>Totalcases</th>\n",
       "      <th>Newcases</th>\n",
       "    </tr>\n",
       "  </thead>\n",
       "  <tbody>\n",
       "    <tr>\n",
       "      <th>0</th>\n",
       "      <td>India</td>\n",
       "      <td>61356</td>\n",
       "      <td>3000</td>\n",
       "    </tr>\n",
       "    <tr>\n",
       "      <th>1</th>\n",
       "      <td>US</td>\n",
       "      <td>1327229</td>\n",
       "      <td>5444</td>\n",
       "    </tr>\n",
       "    <tr>\n",
       "      <th>2</th>\n",
       "      <td>India</td>\n",
       "      <td>40000</td>\n",
       "      <td>2800</td>\n",
       "    </tr>\n",
       "    <tr>\n",
       "      <th>3</th>\n",
       "      <td>China</td>\n",
       "      <td>82000</td>\n",
       "      <td>5000</td>\n",
       "    </tr>\n",
       "    <tr>\n",
       "      <th>4</th>\n",
       "      <td>US</td>\n",
       "      <td>1027800</td>\n",
       "      <td>2500</td>\n",
       "    </tr>\n",
       "  </tbody>\n",
       "</table>\n",
       "</div>"
      ],
      "text/plain": [
       "  Country  Totalcases  Newcases\n",
       "0   India       61356      3000\n",
       "1      US     1327229      5444\n",
       "2   India       40000      2800\n",
       "3   China       82000      5000\n",
       "4      US     1027800      2500"
      ]
     },
     "execution_count": 15,
     "metadata": {},
     "output_type": "execute_result"
    }
   ],
   "source": [
    "P"
   ]
  },
  {
   "cell_type": "code",
   "execution_count": 16,
   "metadata": {},
   "outputs": [
    {
     "data": {
      "text/html": [
       "<div>\n",
       "<style scoped>\n",
       "    .dataframe tbody tr th:only-of-type {\n",
       "        vertical-align: middle;\n",
       "    }\n",
       "\n",
       "    .dataframe tbody tr th {\n",
       "        vertical-align: top;\n",
       "    }\n",
       "\n",
       "    .dataframe thead th {\n",
       "        text-align: right;\n",
       "    }\n",
       "</style>\n",
       "<table border=\"1\" class=\"dataframe\">\n",
       "  <thead>\n",
       "    <tr style=\"text-align: right;\">\n",
       "      <th></th>\n",
       "      <th>Totaldeaths</th>\n",
       "      <th>Totalrecovered</th>\n",
       "    </tr>\n",
       "  </thead>\n",
       "  <tbody>\n",
       "    <tr>\n",
       "      <th>0</th>\n",
       "      <td>1600</td>\n",
       "      <td>140</td>\n",
       "    </tr>\n",
       "    <tr>\n",
       "      <th>1</th>\n",
       "      <td>2000</td>\n",
       "      <td>380</td>\n",
       "    </tr>\n",
       "    <tr>\n",
       "      <th>2</th>\n",
       "      <td>1700</td>\n",
       "      <td>378</td>\n",
       "    </tr>\n",
       "    <tr>\n",
       "      <th>3</th>\n",
       "      <td>6000</td>\n",
       "      <td>899</td>\n",
       "    </tr>\n",
       "    <tr>\n",
       "      <th>4</th>\n",
       "      <td>1479</td>\n",
       "      <td>590</td>\n",
       "    </tr>\n",
       "  </tbody>\n",
       "</table>\n",
       "</div>"
      ],
      "text/plain": [
       "   Totaldeaths  Totalrecovered\n",
       "0         1600             140\n",
       "1         2000             380\n",
       "2         1700             378\n",
       "3         6000             899\n",
       "4         1479             590"
      ]
     },
     "execution_count": 16,
     "metadata": {},
     "output_type": "execute_result"
    }
   ],
   "source": [
    "Q"
   ]
  }
 ],
 "metadata": {
  "kernelspec": {
   "display_name": "Python 3",
   "language": "python",
   "name": "python3"
  },
  "language_info": {
   "codemirror_mode": {
    "name": "ipython",
    "version": 3
   },
   "file_extension": ".py",
   "mimetype": "text/x-python",
   "name": "python",
   "nbconvert_exporter": "python",
   "pygments_lexer": "ipython3",
   "version": "3.7.6"
  }
 },
 "nbformat": 4,
 "nbformat_minor": 4
}
