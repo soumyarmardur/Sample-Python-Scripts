{
 "cells": [
  {
   "cell_type": "code",
   "execution_count": 10,
   "metadata": {},
   "outputs": [],
   "source": [
    "import pandas as pd"
   ]
  },
  {
   "cell_type": "code",
   "execution_count": 11,
   "metadata": {},
   "outputs": [],
   "source": [
    "MartData=pd.read_excel(\"C:\\\\Users\\\\srm\\\\Downloads\\\\Big_Market_Data (2).xlsx\")"
   ]
  },
  {
   "cell_type": "code",
   "execution_count": 61,
   "metadata": {},
   "outputs": [],
   "source": [
    "class Mart():\n",
    "    def __init__(self,MartData):\n",
    "        self.MartData=MartData\n",
    "        \n",
    "    def OutletsaleRevenue(self,MartData,Outlet_Sales=[]):\n",
    "        for i in MartData.Item_Outlet_Sales:\n",
    "            if i<1000:\n",
    "                    Outlet_Sales.append(\"low\")\n",
    "            elif i<2000:\n",
    "                Outlet_Sales.append(\"medium\")\n",
    "            else:\n",
    "                Outlet_Sales.append(\"high\") \n",
    "                \n",
    "        OutletDataframe=pd.DataFrame(Outlet_Sales)\n",
    "            \n",
    "        return Outlet_Sales,OutletDataframe\n",
    "    \n",
    "    \n",
    "    def ItemType(self,MartData,ItemType=[]):\n",
    "        Tier_3MartData=MartData[MartData.Outlet_Location_Type==\"Tier 3\"]\n",
    "        for i in Tier_3MartData.Item_Type:\n",
    "             ItemType.append(i)\n",
    "        ItemType=set(ItemType) \n",
    "            \n",
    "        return ItemType\n",
    "    \n",
    "    def OutletTotalRevenue(self,MartData):\n",
    "        Tier_3MartData=MartData[MartData.Outlet_Location_Type==\"Tier 3\"]\n",
    "        TotalRevenue=sum(Tier_3MartData.Item_MRP)\n",
    "        \n",
    "        return TotalRevenue\n",
    "    \n",
    "    def EachOutletRevenue(self,MartData,MRP=[]):\n",
    "        Tier_3MartData=MartData[MartData.Outlet_Location_Type==\"Tier 3\"]\n",
    "        MartBranches=set(Tier_3MartData.Outlet_Type)\n",
    "        Brancheslist=list(MartBranches)\n",
    "\n",
    "        for i in Brancheslist:\n",
    "            x=(sum(MartData.Item_MRP[MartData.Outlet_Type==i]))\n",
    "            MRP.append(x)\n",
    "\n",
    "\n",
    "        ListofBranches=pd.DataFrame(Brancheslist)\n",
    "        ListofBranches.rename(columns={0:\"listofbranches\"},inplace=True)\n",
    "        MRP_Val=pd.DataFrame(MRP)\n",
    "        MRP_Val.rename(columns={0:\"MRP\"},inplace=True)\n",
    "        branch_Revenue=pd.concat([ListofBranches,MRP_Val],axis=1)\n",
    "\n",
    "\n",
    "        return branch_Revenue\n",
    "\n",
    "\n",
    "\n",
    "    \n",
    "\n",
    "    "
   ]
  },
  {
   "cell_type": "code",
   "execution_count": 62,
   "metadata": {},
   "outputs": [],
   "source": [
    "MartObj=Mart(MartData)"
   ]
  },
  {
   "cell_type": "code",
   "execution_count": 63,
   "metadata": {},
   "outputs": [
    {
     "name": "stdout",
     "output_type": "stream",
     "text": [
      "(['high', 'low', 'high', 'low', 'low', 'low', 'low', 'high', 'medium'],         0\n",
      "0    high\n",
      "1     low\n",
      "2    high\n",
      "3     low\n",
      "4     low\n",
      "5     low\n",
      "6     low\n",
      "7    high\n",
      "8  medium)\n",
      "{'Soft Drinks', 'Fruits and Vegetables', 'Household', 'Baking Goods', 'Snack Foods'}\n",
      "501.0474\n",
      "      listofbranches       MRP\n",
      "0  Supermarket Type2   99.6700\n",
      "1  Supermarket Type1  599.9200\n",
      "2      Grocery Store  182.0950\n",
      "3  Supermarket Type3  107.7622\n"
     ]
    }
   ],
   "source": [
    "print(MartObj.OutletsaleRevenue(MartData))\n",
    "\n",
    "print(MartObj.ItemType(MartData))\n",
    "\n",
    "print(MartObj.OutletTotalRevenue(MartData))\n",
    "\n",
    "print(MartObj.EachOutletRevenue(MartData))\n",
    "\n"
   ]
  },
  {
   "cell_type": "code",
   "execution_count": null,
   "metadata": {},
   "outputs": [],
   "source": []
  }
 ],
 "metadata": {
  "kernelspec": {
   "display_name": "Python 3",
   "language": "python",
   "name": "python3"
  },
  "language_info": {
   "codemirror_mode": {
    "name": "ipython",
    "version": 3
   },
   "file_extension": ".py",
   "mimetype": "text/x-python",
   "name": "python",
   "nbconvert_exporter": "python",
   "pygments_lexer": "ipython3",
   "version": "3.7.6"
  }
 },
 "nbformat": 4,
 "nbformat_minor": 4
}
